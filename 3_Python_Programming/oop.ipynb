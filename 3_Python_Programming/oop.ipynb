{
 "cells": [
  {
   "cell_type": "code",
   "execution_count": 1,
   "source": [
    "import random"
   ],
   "outputs": [],
   "metadata": {}
  },
  {
   "cell_type": "code",
   "execution_count": 2,
   "source": [
    "class RandomListLoader:\n",
    "    def __init__(self, dice_list: list, seed: int) -> None:\n",
    "        self.dice_list = dice_list\n",
    "        self.seed = random.seed(seed)\n",
    "    \n",
    "    def shuffle(self) -> list:\n",
    "        return random.shuffle(self.dice_list)\n",
    "    \n",
    "    def __getitem__(self, num: int):\n",
    "        return self.dice_list[num]\n",
    "        \n",
    "    def get_element(self) -> int:\n",
    "        return self.dice_list[0]\n",
    "    \n"
   ],
   "outputs": [],
   "metadata": {}
  },
  {
   "cell_type": "code",
   "execution_count": 3,
   "source": [
    "dice_1 = RandomListLoader([1, 2, 3, 4, 5, 6], 42)\n",
    "dice_2 = RandomListLoader([1, 2, 3, 4, 5, 6], 42)\n"
   ],
   "outputs": [],
   "metadata": {}
  },
  {
   "cell_type": "code",
   "execution_count": 7,
   "source": [
    "dice_sum = 0\n",
    "\n",
    "for num in range(0, 10000):\n",
    "    dice_1.shuffle()\n",
    "    dice_2.shuffle()\n",
    "    dice_1_num = dice_1.get_element()\n",
    "    dice_2_num = dice_2.get_element()\n",
    "    dice_sum += (dice_1_num + dice_2_num)\n",
    "\n",
    "print(dice_sum/10000)"
   ],
   "outputs": [
    {
     "output_type": "stream",
     "name": "stdout",
     "text": [
      "7.0061\n"
     ]
    }
   ],
   "metadata": {}
  },
  {
   "cell_type": "code",
   "execution_count": null,
   "source": [],
   "outputs": [],
   "metadata": {}
  }
 ],
 "metadata": {
  "kernelspec": {
   "name": "python3",
   "display_name": "Python 3.9.7 64-bit ('AICore': conda)"
  },
  "language_info": {
   "codemirror_mode": {
    "name": "ipython",
    "version": 3
   },
   "file_extension": ".py",
   "mimetype": "text/x-python",
   "name": "python",
   "nbconvert_exporter": "python",
   "pygments_lexer": "ipython3",
   "version": "3.9.7"
  },
  "interpreter": {
   "hash": "42cb7cc906908f4380e48b350fdd9a0e7331a1d635afd663fea9b71207a9f4c4"
  }
 },
 "nbformat": 4,
 "nbformat_minor": 5
}