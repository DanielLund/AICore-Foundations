{
 "cells": [
  {
   "cell_type": "code",
   "execution_count": 1,
   "id": "5be5be31",
   "metadata": {},
   "outputs": [],
   "source": [
    "import random"
   ]
  },
  {
   "cell_type": "code",
   "execution_count": null,
   "id": "d26fe1b5",
   "metadata": {},
   "outputs": [],
   "source": [
    "class RandomListLoader:\n",
    "    def __init__(self, list):\n",
    "        self.list = list\n",
    "        \n",
    "    \n",
    "    def reshuffle(self):\n",
    "        return random.shuffle(self.list)\n",
    "    def get_element(self):\n",
    "        "
   ]
  }
 ],
 "metadata": {
  "kernelspec": {
   "display_name": "Python 3.9.5 64-bit",
   "language": "python",
   "name": "python395jvsc74a57bd07812ea015bdcee6f23a998adcdd2ef97c151c0c241b7b7070987d9313e41299d"
  },
  "language_info": {
   "codemirror_mode": {
    "name": "ipython",
    "version": 3
   },
   "file_extension": ".py",
   "mimetype": "text/x-python",
   "name": "python",
   "nbconvert_exporter": "python",
   "pygments_lexer": "ipython3",
   "version": "3.9.5"
  }
 },
 "nbformat": 4,
 "nbformat_minor": 5
}
