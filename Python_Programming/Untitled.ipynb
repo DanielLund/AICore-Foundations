{
 "cells": [
  {
   "cell_type": "code",
   "execution_count": 1,
   "id": "4b833be3",
   "metadata": {},
   "outputs": [],
   "source": [
    "user_list = [\"Dan\", \"Faiz\", \"Harry\"]"
   ]
  },
  {
   "cell_type": "code",
   "execution_count": 2,
   "id": "acc91b56",
   "metadata": {},
   "outputs": [
    {
     "name": "stdout",
     "output_type": "stream",
     "text": [
      "<class 'list'>\n"
     ]
    }
   ],
   "source": [
    "print(type(user_list))"
   ]
  },
  {
   "cell_type": "code",
   "execution_count": 3,
   "id": "40de4536",
   "metadata": {},
   "outputs": [
    {
     "name": "stdout",
     "output_type": "stream",
     "text": [
      "3\n"
     ]
    }
   ],
   "source": [
    "print(len(user_list))"
   ]
  },
  {
   "cell_type": "code",
   "execution_count": 4,
   "id": "538e08dd",
   "metadata": {},
   "outputs": [
    {
     "name": "stdout",
     "output_type": "stream",
     "text": [
      "<class 'str'>\n"
     ]
    }
   ],
   "source": [
    "print(type(user_list[0]))"
   ]
  },
  {
   "cell_type": "code",
   "execution_count": 5,
   "id": "64fb9569",
   "metadata": {},
   "outputs": [
    {
     "name": "stdout",
     "output_type": "stream",
     "text": [
      "5\n"
     ]
    }
   ],
   "source": [
    "print(len(user_list[-1]))"
   ]
  },
  {
   "cell_type": "code",
   "execution_count": 6,
   "id": "c7576491",
   "metadata": {},
   "outputs": [],
   "source": [
    "list_1 = [True, \"True\", 1, 1.0, (1, )]"
   ]
  },
  {
   "cell_type": "code",
   "execution_count": 7,
   "id": "84b887da",
   "metadata": {},
   "outputs": [],
   "source": [
    "list_2 = [0] * 10"
   ]
  },
  {
   "cell_type": "code",
   "execution_count": 8,
   "id": "2c1064c7",
   "metadata": {},
   "outputs": [
    {
     "name": "stdout",
     "output_type": "stream",
     "text": [
      "[0, 0, 0, 0, 0, 0, 0, 0, 0, 0]\n"
     ]
    }
   ],
   "source": [
    "print(list_2)"
   ]
  },
  {
   "cell_type": "code",
   "execution_count": 9,
   "id": "9e97f46d",
   "metadata": {},
   "outputs": [],
   "source": [
    "list_3 = [list_1, list_2]"
   ]
  },
  {
   "cell_type": "code",
   "execution_count": 10,
   "id": "b323ba21",
   "metadata": {},
   "outputs": [
    {
     "data": {
      "text/plain": [
       "[[True, 'True', 1, 1.0, (1,)], [0, 0, 0, 0, 0, 0, 0, 0, 0, 0]]"
      ]
     },
     "execution_count": 10,
     "metadata": {},
     "output_type": "execute_result"
    }
   ],
   "source": [
    "list_3"
   ]
  },
  {
   "cell_type": "code",
   "execution_count": 14,
   "id": "6d521fb5",
   "metadata": {},
   "outputs": [
    {
     "name": "stdout",
     "output_type": "stream",
     "text": [
      "1.0 0\n"
     ]
    }
   ],
   "source": [
    "print(list_3[0][3], list_3[1][3])"
   ]
  },
  {
   "cell_type": "code",
   "execution_count": 15,
   "id": "016e6cdc",
   "metadata": {},
   "outputs": [],
   "source": [
    "list_4 = [list_3[0][3], list_3[1][3]]"
   ]
  },
  {
   "cell_type": "code",
   "execution_count": 16,
   "id": "7f01f659",
   "metadata": {},
   "outputs": [
    {
     "name": "stdout",
     "output_type": "stream",
     "text": [
      "[[True, 'True', 1, 1.0, (1,)], [0, 0, 0, 0, 0, 0, 0, 0, 0, 0]]\n"
     ]
    }
   ],
   "source": [
    "print(list_3)"
   ]
  },
  {
   "cell_type": "code",
   "execution_count": 17,
   "id": "d39dbbe7",
   "metadata": {},
   "outputs": [
    {
     "name": "stdout",
     "output_type": "stream",
     "text": [
      "[1.0, 0]\n"
     ]
    }
   ],
   "source": [
    "print(list_4)"
   ]
  },
  {
   "cell_type": "code",
   "execution_count": 43,
   "id": "b32f32db",
   "metadata": {},
   "outputs": [],
   "source": [
    "plates = [\"G06 WTR\", \"WL11 WFL\", \"QW68 PQR\"]"
   ]
  },
  {
   "cell_type": "code",
   "execution_count": null,
   "id": "f53d70e4",
   "metadata": {},
   "outputs": [],
   "source": []
  },
  {
   "cell_type": "code",
   "execution_count": 56,
   "id": "e9457c0f",
   "metadata": {},
   "outputs": [
    {
     "name": "stdout",
     "output_type": "stream",
     "text": [
      "['06']\n",
      "['06', '11']\n",
      "['06', '11', '68']\n"
     ]
    }
   ],
   "source": [
    "for plate in plates:\n",
    "    first_part = plate.split()[0]\n",
    "    date = first_part[-2:]\n",
    "    print(type(date))"
   ]
  },
  {
   "cell_type": "code",
   "execution_count": 57,
   "id": "99e12001",
   "metadata": {},
   "outputs": [
    {
     "name": "stdout",
     "output_type": "stream",
     "text": [
      "<class 'int'>\n",
      "<class 'int'>\n",
      "<class 'int'>\n"
     ]
    }
   ],
   "source": [
    "for plate in plates:\n",
    "    first_part = plate.split()[0]\n",
    "    date = int(first_part[-2:])\n",
    "    print(type(date))\n",
    "    "
   ]
  },
  {
   "cell_type": "code",
   "execution_count": 68,
   "id": "ec1a0616",
   "metadata": {},
   "outputs": [
    {
     "name": "stdout",
     "output_type": "stream",
     "text": [
      "{'Harry', 'Dan', 'Faiz'}\n",
      "{'a'}\n"
     ]
    }
   ],
   "source": [
    "\n",
    "print(set_user)\n",
    "harry = set(user_list[0])\n",
    "dan = set(user_list[1])\n",
    "faiz = set(user_list[2])\n",
    "common = harry.intersection(dan).intersection(faiz)\n",
    "print(common)\n"
   ]
  },
  {
   "cell_type": "code",
   "execution_count": 69,
   "id": "a9a1cbc8",
   "metadata": {},
   "outputs": [
    {
     "name": "stdout",
     "output_type": "stream",
     "text": [
      "1\n"
     ]
    }
   ],
   "source": [
    "print(len(set(list_2)))"
   ]
  },
  {
   "cell_type": "code",
   "execution_count": 71,
   "id": "894f1559",
   "metadata": {},
   "outputs": [
    {
     "name": "stdout",
     "output_type": "stream",
     "text": [
      "{1, 2}\n"
     ]
    }
   ],
   "source": [
    "x = [1, 1, 1, 2]\n",
    "print(set(x))"
   ]
  },
  {
   "cell_type": "code",
   "execution_count": 73,
   "id": "ecfde9fe",
   "metadata": {},
   "outputs": [],
   "source": [
    "dictionary = {\n",
    "    \"a\": True,\n",
    "    \"b\": False,\n",
    "}\n"
   ]
  },
  {
   "cell_type": "code",
   "execution_count": 74,
   "id": "732c6820",
   "metadata": {},
   "outputs": [],
   "source": [
    "x = 10"
   ]
  },
  {
   "cell_type": "code",
   "execution_count": 86,
   "id": "57744e6e",
   "metadata": {},
   "outputs": [
    {
     "name": "stdout",
     "output_type": "stream",
     "text": [
      "Choose a number: 12\n",
      "12 is greater than 10\n"
     ]
    }
   ],
   "source": [
    "n = int(input(\"Choose a number: \"))\n",
    "if n > x:\n",
    "    print(f\"{n} is greater than 10\")\n",
    "else:\n",
    "    print(f\"{n} is less than 10\")"
   ]
  },
  {
   "cell_type": "code",
   "execution_count": 94,
   "id": "debf1cd2",
   "metadata": {},
   "outputs": [
    {
     "data": {
      "text/plain": [
       "True"
      ]
     },
     "execution_count": 94,
     "metadata": {},
     "output_type": "execute_result"
    }
   ],
   "source": [
    "'aaa' > 'AAA'"
   ]
  },
  {
   "cell_type": "code",
   "execution_count": 110,
   "id": "9a310ca1",
   "metadata": {},
   "outputs": [
    {
     "name": "stdout",
     "output_type": "stream",
     "text": [
      "False\n"
     ]
    }
   ],
   "source": [
    "a = 1\n",
    "b = 1\n",
    "xor_gate = (not (a and b)) and (a or b)\n",
    "print(xor_gate)\n",
    "nand = not (a and b)\n",
    "or_g = a or b"
   ]
  },
  {
   "cell_type": "code",
   "execution_count": 1,
   "id": "49eba8a7",
   "metadata": {},
   "outputs": [],
   "source": [
    "tup = (1, 5, 4, 1, 8, 1, 5, 2, 2, 2, 1, 8)"
   ]
  },
  {
   "cell_type": "code",
   "execution_count": 2,
   "id": "bf0e567f",
   "metadata": {},
   "outputs": [
    {
     "name": "stdout",
     "output_type": "stream",
     "text": [
      "[1, 2, 4, 5, 8]\n"
     ]
    }
   ],
   "source": [
    "print(list(set(tup)))"
   ]
  },
  {
   "cell_type": "code",
   "execution_count": 3,
   "id": "f5bcc265",
   "metadata": {},
   "outputs": [],
   "source": [
    "fruits = {'apple', 'banana', 'cherry'}"
   ]
  },
  {
   "cell_type": "code",
   "execution_count": 5,
   "id": "6b52e222",
   "metadata": {},
   "outputs": [],
   "source": [
    "fruits_2 = {'banana', 'cherry', 'durian'}"
   ]
  },
  {
   "cell_type": "code",
   "execution_count": 6,
   "id": "260010b0",
   "metadata": {},
   "outputs": [],
   "source": [
    "fruits.update(fruits_2)"
   ]
  },
  {
   "cell_type": "code",
   "execution_count": 7,
   "id": "33a5d8ec",
   "metadata": {},
   "outputs": [
    {
     "name": "stdout",
     "output_type": "stream",
     "text": [
      "{'cherry', 'banana', 'durian', 'apple'}\n"
     ]
    }
   ],
   "source": [
    "print(fruits)"
   ]
  },
  {
   "cell_type": "code",
   "execution_count": 8,
   "id": "60c64af1",
   "metadata": {},
   "outputs": [],
   "source": [
    "set_1 = {1, 2, 3, 4, 5}\n",
    "set_2 = {2, 4}\n",
    "set_3 = {2}\n"
   ]
  },
  {
   "cell_type": "code",
   "execution_count": 9,
   "id": "555fc31c",
   "metadata": {},
   "outputs": [
    {
     "data": {
      "text/plain": [
       "True"
      ]
     },
     "execution_count": 9,
     "metadata": {},
     "output_type": "execute_result"
    }
   ],
   "source": [
    "set_1.issuperset(set_1)"
   ]
  },
  {
   "cell_type": "code",
   "execution_count": 10,
   "id": "21bd774f",
   "metadata": {},
   "outputs": [
    {
     "ename": "TypeError",
     "evalue": "'set' object is not subscriptable",
     "output_type": "error",
     "traceback": [
      "\u001b[0;31m---------------------------------------------------------------------------\u001b[0m",
      "\u001b[0;31mTypeError\u001b[0m                                 Traceback (most recent call last)",
      "\u001b[0;32m/var/folders/05/mkq8wpdx6mvfgmdxy2lqpd6r0000gn/T/ipykernel_24218/218745395.py\u001b[0m in \u001b[0;36m<module>\u001b[0;34m\u001b[0m\n\u001b[0;32m----> 1\u001b[0;31m \u001b[0mset_1\u001b[0m\u001b[0;34m[\u001b[0m\u001b[0;36m0\u001b[0m\u001b[0;34m:\u001b[0m\u001b[0;36m4\u001b[0m\u001b[0;34m]\u001b[0m\u001b[0;34m.\u001b[0m\u001b[0missuperset\u001b[0m\u001b[0;34m(\u001b[0m\u001b[0mset_2\u001b[0m\u001b[0;34m)\u001b[0m\u001b[0;34m\u001b[0m\u001b[0;34m\u001b[0m\u001b[0m\n\u001b[0m",
      "\u001b[0;31mTypeError\u001b[0m: 'set' object is not subscriptable"
     ]
    }
   ],
   "source": [
    "set_1[0:4].issuperset(set_2)"
   ]
  },
  {
   "cell_type": "code",
   "execution_count": 13,
   "id": "a0e52d1f",
   "metadata": {},
   "outputs": [],
   "source": [
    "dictionary = {\n",
    "    'name': 'Dan',\n",
    "    'name': 'Bob'\n",
    "             }"
   ]
  },
  {
   "cell_type": "code",
   "execution_count": 14,
   "id": "7586239c",
   "metadata": {},
   "outputs": [
    {
     "name": "stdout",
     "output_type": "stream",
     "text": [
      "{'name': 'Bob'}\n"
     ]
    }
   ],
   "source": [
    "print(dictionary)"
   ]
  },
  {
   "cell_type": "code",
   "execution_count": 16,
   "id": "11f7097f",
   "metadata": {},
   "outputs": [
    {
     "data": {
      "text/plain": [
       "dict_items([('name', 'Bob')])"
      ]
     },
     "execution_count": 16,
     "metadata": {},
     "output_type": "execute_result"
    }
   ],
   "source": [
    "dictionary.items()"
   ]
  },
  {
   "cell_type": "code",
   "execution_count": 17,
   "id": "09cd6d3e",
   "metadata": {},
   "outputs": [],
   "source": [
    "t =()"
   ]
  },
  {
   "cell_type": "code",
   "execution_count": 18,
   "id": "61568f4f",
   "metadata": {},
   "outputs": [
    {
     "data": {
      "text/plain": [
       "tuple"
      ]
     },
     "execution_count": 18,
     "metadata": {},
     "output_type": "execute_result"
    }
   ],
   "source": [
    "type(t)"
   ]
  },
  {
   "cell_type": "code",
   "execution_count": 24,
   "id": "48919261",
   "metadata": {},
   "outputs": [],
   "source": [
    "t += (1, 2, 3)"
   ]
  },
  {
   "cell_type": "code",
   "execution_count": 25,
   "id": "d1cd1a0b",
   "metadata": {},
   "outputs": [
    {
     "data": {
      "text/plain": [
       "(1, 2, 3)"
      ]
     },
     "execution_count": 25,
     "metadata": {},
     "output_type": "execute_result"
    }
   ],
   "source": [
    "t"
   ]
  },
  {
   "cell_type": "code",
   "execution_count": 30,
   "id": "70cb5b5a",
   "metadata": {},
   "outputs": [
    {
     "data": {
      "text/plain": [
       "(1, 2, 3)"
      ]
     },
     "execution_count": 30,
     "metadata": {},
     "output_type": "execute_result"
    }
   ],
   "source": [
    "t[0:3]"
   ]
  },
  {
   "cell_type": "code",
   "execution_count": 31,
   "id": "9f798180",
   "metadata": {},
   "outputs": [],
   "source": [
    "names = ('Harry', 'Ahmed', 'Blair', 'Ivan')"
   ]
  },
  {
   "cell_type": "code",
   "execution_count": 32,
   "id": "11a03a7d",
   "metadata": {},
   "outputs": [
    {
     "data": {
      "text/plain": [
       "['Ahmed', 'Blair', 'Harry', 'Ivan']"
      ]
     },
     "execution_count": 32,
     "metadata": {},
     "output_type": "execute_result"
    }
   ],
   "source": [
    "sorted(names)"
   ]
  },
  {
   "cell_type": "code",
   "execution_count": 33,
   "id": "a6dfaf08",
   "metadata": {},
   "outputs": [
    {
     "data": {
      "text/plain": [
       "('Harry', 'Ahmed', 'Blair', 'Ivan')"
      ]
     },
     "execution_count": 33,
     "metadata": {},
     "output_type": "execute_result"
    }
   ],
   "source": [
    "names"
   ]
  },
  {
   "cell_type": "code",
   "execution_count": 35,
   "id": "0f19ba65",
   "metadata": {},
   "outputs": [
    {
     "data": {
      "text/plain": [
       "5"
      ]
     },
     "execution_count": 35,
     "metadata": {},
     "output_type": "execute_result"
    }
   ],
   "source": [
    "len(names[0])"
   ]
  },
  {
   "cell_type": "code",
   "execution_count": 36,
   "id": "d616f7a2",
   "metadata": {},
   "outputs": [
    {
     "ename": "TypeError",
     "evalue": "'tuple' object does not support item assignment",
     "output_type": "error",
     "traceback": [
      "\u001b[0;31m---------------------------------------------------------------------------\u001b[0m",
      "\u001b[0;31mTypeError\u001b[0m                                 Traceback (most recent call last)",
      "\u001b[0;32m/var/folders/05/mkq8wpdx6mvfgmdxy2lqpd6r0000gn/T/ipykernel_24218/82335320.py\u001b[0m in \u001b[0;36m<module>\u001b[0;34m\u001b[0m\n\u001b[0;32m----> 1\u001b[0;31m \u001b[0mnames\u001b[0m\u001b[0;34m[\u001b[0m\u001b[0;36m3\u001b[0m\u001b[0;34m]\u001b[0m \u001b[0;34m=\u001b[0m \u001b[0;34m'Ivan'\u001b[0m\u001b[0;34m\u001b[0m\u001b[0;34m\u001b[0m\u001b[0m\n\u001b[0m",
      "\u001b[0;31mTypeError\u001b[0m: 'tuple' object does not support item assignment"
     ]
    }
   ],
   "source": [
    "names[3] = 'Ivan'"
   ]
  },
  {
   "cell_type": "code",
   "execution_count": 37,
   "id": "799090d2",
   "metadata": {},
   "outputs": [],
   "source": [
    "x, y = (3, 4,)"
   ]
  },
  {
   "cell_type": "code",
   "execution_count": 38,
   "id": "9f1dffa9",
   "metadata": {},
   "outputs": [
    {
     "data": {
      "text/plain": [
       "3"
      ]
     },
     "execution_count": 38,
     "metadata": {},
     "output_type": "execute_result"
    }
   ],
   "source": [
    "x"
   ]
  },
  {
   "cell_type": "code",
   "execution_count": 39,
   "id": "f070478c",
   "metadata": {},
   "outputs": [
    {
     "data": {
      "text/plain": [
       "4"
      ]
     },
     "execution_count": 39,
     "metadata": {},
     "output_type": "execute_result"
    }
   ],
   "source": [
    "y"
   ]
  },
  {
   "cell_type": "code",
   "execution_count": 40,
   "id": "9f7e263b",
   "metadata": {},
   "outputs": [],
   "source": [
    "tup = (1, 5, 4, 1, 8, 1, 5, 2, 2, 2, 1, 8)"
   ]
  },
  {
   "cell_type": "code",
   "execution_count": 41,
   "id": "fdedbe3f",
   "metadata": {},
   "outputs": [
    {
     "data": {
      "text/plain": [
       "12"
      ]
     },
     "execution_count": 41,
     "metadata": {},
     "output_type": "execute_result"
    }
   ],
   "source": [
    "len(tup)"
   ]
  },
  {
   "cell_type": "code",
   "execution_count": 44,
   "id": "0bb21661",
   "metadata": {},
   "outputs": [
    {
     "data": {
      "text/plain": [
       "4"
      ]
     },
     "execution_count": 44,
     "metadata": {},
     "output_type": "execute_result"
    }
   ],
   "source": [
    "tup.index(8)"
   ]
  },
  {
   "cell_type": "code",
   "execution_count": 45,
   "id": "479a71ed",
   "metadata": {},
   "outputs": [
    {
     "data": {
      "text/plain": [
       "(4,)"
      ]
     },
     "execution_count": 45,
     "metadata": {},
     "output_type": "execute_result"
    }
   ],
   "source": [
    "tup[2:3]"
   ]
  },
  {
   "cell_type": "code",
   "execution_count": 46,
   "id": "fcd64e86",
   "metadata": {},
   "outputs": [],
   "source": [
    "t=(1)"
   ]
  },
  {
   "cell_type": "code",
   "execution_count": 47,
   "id": "c40acf40",
   "metadata": {},
   "outputs": [
    {
     "data": {
      "text/plain": [
       "int"
      ]
     },
     "execution_count": 47,
     "metadata": {},
     "output_type": "execute_result"
    }
   ],
   "source": [
    "type(t)"
   ]
  },
  {
   "cell_type": "code",
   "execution_count": 48,
   "id": "9ac2232f",
   "metadata": {},
   "outputs": [],
   "source": [
    "t =1,"
   ]
  },
  {
   "cell_type": "code",
   "execution_count": 49,
   "id": "c4d1acd6",
   "metadata": {},
   "outputs": [
    {
     "data": {
      "text/plain": [
       "tuple"
      ]
     },
     "execution_count": 49,
     "metadata": {},
     "output_type": "execute_result"
    }
   ],
   "source": [
    "type(t)"
   ]
  },
  {
   "cell_type": "code",
   "execution_count": null,
   "id": "668f65e0",
   "metadata": {},
   "outputs": [],
   "source": []
  }
 ],
 "metadata": {
  "kernelspec": {
   "display_name": "Python [conda env:AICore] *",
   "language": "python",
   "name": "conda-env-AICore-py"
  },
  "language_info": {
   "codemirror_mode": {
    "name": "ipython",
    "version": 3
   },
   "file_extension": ".py",
   "mimetype": "text/x-python",
   "name": "python",
   "nbconvert_exporter": "python",
   "pygments_lexer": "ipython3",
   "version": "3.9.7"
  }
 },
 "nbformat": 4,
 "nbformat_minor": 5
}
